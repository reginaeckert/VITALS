{
 "cells": [
  {
   "cell_type": "markdown",
   "metadata": {},
   "source": [
    "> If running this notebook locally, you will find instructions to set up a compatible environment in the `setup` folder. If running on the Openscapes 2i2c Cloud Instance, please uncomment and run the cell below to install the `scikit-image` python library that needs to be added to the default 2i2c environment. "
   ]
  },
  {
   "cell_type": "code",
   "execution_count": null,
   "metadata": {},
   "outputs": [],
   "source": [
    "# # Uncomment and run this cell if on the Openscapes 2i2c Cloud Instance to install the scikit-image library\n",
    "# !pip install scikit-image"
   ]
  },
  {
   "cell_type": "markdown",
   "metadata": {},
   "source": [
    "# 01 Finding Concurrent ECOSTRESS and EMIT Data\n",
    "\n",
    "---\n",
    "\n",
    "**Summary**  \n",
    "\n",
    "Both the ECOsystem Spaceborne Thermal Radiometer Experiment on Space Station (ECOSTRESS) and the Earth surface Mineral dust source InvesTigation (EMIT) instruments are located on the International Space Station (ISS). Their overlapping fields of view provide an unprecedented opportunity to demonstrate the compounded benefits of working with both datasets. In this notebook we will show how to utilize the [`earthaccess` Python library](https://github.com/nsidc/earthaccess) to find concurrent ECOSTRESS and EMIT data. \n",
    "\n",
    "**Background**\n",
    "\n",
    "The **ECOSTRESS** instrument is a multispectral thermal imaging radiometer designed to answer three overarching science questions:\n",
    "\n",
    "- How is the terrestrial biosphere responding to changes in water availability?\n",
    "- How do changes in diurnal vegetation water stress  the global carbon cycle?\n",
    "- Can agricultural vulnerability be reduced through advanced monitoring of agricultural water consumptive use and improved drought   estimation?\n",
    "\n",
    "The ECOSTRESS mission is answering these questions by accurately measuring the temperature of plants.  Plants regulate their temperature by releasing water through tiny pores on their leaves called stomata. If they have sufficient water they can maintain their temperature, but if there is insufficient water, their temperatures rise and this temperature rise can be measured with ECOSTRESS. The images acquired by ECOSTRESS are the most detailed temperature images of the surface ever acquired from space and can be used to measure the temperature of an individual farmers field.\n",
    "\n",
    "More details about ECOSTRESS and its associated products can be found on the [ECOSTRESS website](https://ecostress.jpl.nasa.gov/) and [ECOSTRESS product pages](https://lpdaac.usgs.gov/product_search/?query=ECOSTRESS&status=Operational&view=cards&sort=title) hosted by the Land Processes Distributed Active Archive Center (LP DAAC).\n",
    "\n",
    "The **EMIT** instrument is an imaging spectrometer that measures light in visible and infrared wavelengths. These measurements display unique spectral signatures that correspond to the composition on the Earth's surface. The EMIT mission focuses specifically on mapping the composition of minerals to better understand the effects of mineral dust throughout the Earth system and human populations now and in the future. In addition, the EMIT instrument can be used in other applications, such as mapping of greenhouse gases, snow properties, and water resources.\n",
    "\n",
    "More details about EMIT and its associated products can be found on the [EMIT website](https://earth.jpl.nasa.gov/emit/) and [EMIT product pages](https://lpdaac.usgs.gov/product_search/?query=EMIT&status=Operational&view=cards&sort=title) hosted by the LP DAAC.\n",
    "\n",
    "**Requirements** \n",
    " - *No requirements if connected to the workshop cloud instance!*\n",
    " - Set up Python Environment - See **setup_instructions.md** in the `/setup/` folder\n",
    "\n",
    "**Learning Objectives**  \n",
    "- How to use `earthaccess` to find concurrent EMIT and ECOSTRESS data.\n",
    "- How to export a list of files and download them programatically.\n",
    "\n",
    "**Tutorial Outline**  \n",
    "\n",
    "1. Setup  \n",
    "2. Searching for Data  \n",
    "3. Organizing and Filtering Results\n",
    "4. Visualizing Intersecting Coverage\n",
    "5. Creating a list of Asset URLs and Downloading"
   ]
  },
  {
   "cell_type": "markdown",
   "metadata": {},
   "source": [
    "---\n",
    "\n",
    "## 1. Setup\n",
    "\n",
    "Import the required Python libraries."
   ]
  },
  {
   "cell_type": "code",
   "execution_count": null,
   "metadata": {},
   "outputs": [],
   "source": [
    "# Import required libraries\n",
    "import os\n",
    "import folium\n",
    "import earthaccess\n",
    "import warnings\n",
    "import folium.plugins\n",
    "import pandas as pd\n",
    "import geopandas as gpd\n",
    "import math\n",
    "\n",
    "import datetime\n",
    "\n",
    "from branca.element import Figure\n",
    "from IPython.display import display\n",
    "from shapely import geometry\n",
    "from skimage import io\n",
    "from datetime import timedelta\n",
    "from shapely.geometry.polygon import orient\n",
    "from matplotlib import pyplot as plt"
   ]
  },
  {
   "cell_type": "markdown",
   "metadata": {},
   "source": [
    "---\n",
    "## 2. Search for ECOSTRESS and EMIT Data\n",
    "\n",
    "Both EMIT and ECOSTRESS products are hosted by the Land Processes Distributed Active Archive Center (LP DAAC). In this example we will use the cloud-hosted EMIT_L2A_RFL and ECOSTRESS_L2T_LSTE products available from the LP DAAC to find data. Any results we find for these products, should be available for other products within the EMIT and ECOSTRESS collections. \n",
    "\n",
    "To find data we will use the [`earthaccess` Python library](https://github.com/nsidc/earthaccess). `earthaccess` searches NASA's Common Metadata Repository (CMR), a metadata system that catalogs Earth Science data and associated metadata records. The results can then be used to download granules or generate lists granule search result URLs.\n",
    "\n",
    "Using `earthaccess` we can search based on the attributes of a granule, which can be thought of as a spatiotemporal scene from an instrument containing multiple assets (eg. Reflectance, Reflectance Uncertainty, Masks for the EMIT L2A Reflectance Collection). We can search using attributes such as collection, acquisition time, and spatial footprint. This process can also be used with other EMIT or ECOSTRESS products, other collections, or different data providers, as well as across multiple catalogs with some modification. \n",
    "\n",
    "### 2.1 Define Spatial Region of Interest\n",
    "\n",
    "For this example, our spatial region of interest will be the Carpenteria Salt Marsh. You can learn more about it here: <https://ucnrs.org/reserves/carpinteria-salt-marsh-reserve/>. In this example, we elect to search using a polygon rather than a standard bounding box because bounding boxes will have a larger spatial extent, capturing many areas we may not be interested in. This becomes more important for searches with larger ROIs than our example here. To search for intersections with a polygon, we need to format our ROI as a counter-clockwise list of coordinate pairs. \n",
    "\n",
    "Open the `geojson` file containing a landcover classification of our region of interest as a `geodataframe`, and check the coordinate reference system (CRS) of the data."
   ]
  },
  {
   "cell_type": "code",
   "execution_count": null,
   "metadata": {},
   "outputs": [],
   "source": [
    "#polygon = gpd.read_file('../data/landcover.geojson')\n",
    "polygon = gpd.read_file('../data/losangeles.geojson')\n",
    "polygon.crs"
   ]
  },
  {
   "cell_type": "markdown",
   "metadata": {},
   "source": [
    "The CRS is **EPSG:4326** (WGS84), which is also the CRS we want the data in to submit for our search.\n",
    "\n",
    "Next, lets examine our polygon a bit closer."
   ]
  },
  {
   "cell_type": "code",
   "execution_count": null,
   "metadata": {},
   "outputs": [],
   "source": [
    "polygon"
   ]
  },
  {
   "cell_type": "markdown",
   "metadata": {},
   "source": [
    "We can see this `geodataframe` consists of multiple classes, each containing a multipolygon within our study site. We need to create an exterior boundary polygon containing these, and make sure the vertices are in counter-clockwise order to submit them in our query. To do this, create a polygon consisting of all the geometries, then calculate the convex hull of the union. This will give us a simple exterior polygon around our full ROI. After that, use the `orient` function to place our coordinate pairs in counter-clockwise order."
   ]
  },
  {
   "cell_type": "code",
   "execution_count": null,
   "metadata": {},
   "outputs": [],
   "source": [
    "# Merge all Polygon geometries and create external boundary\n",
    "roi_poly = polygon.unary_union.convex_hull\n",
    "# Re-order vertices to counter-clockwise\n",
    "roi_poly = orient(roi_poly, sign=1.0)"
   ]
  },
  {
   "cell_type": "markdown",
   "metadata": {},
   "source": [
    "We can go ahead and visualize our region of interest and the original landcover polygon. First add a function to help reformat bound box coordinates to work with leaflet notation."
   ]
  },
  {
   "cell_type": "code",
   "execution_count": null,
   "metadata": {},
   "outputs": [],
   "source": [
    "# Function to convert a bounding box for use in leaflet notation\n",
    "\n",
    "def convert_bounds(bbox, invert_y=False):\n",
    "    \"\"\"\n",
    "    Helper method for changing bounding box representation to leaflet notation\n",
    "\n",
    "    ``(lon1, lat1, lon2, lat2) -> ((lat1, lon1), (lat2, lon2))``\n",
    "    \"\"\"\n",
    "    x1, y1, x2, y2 = bbox\n",
    "    if invert_y:\n",
    "        y1, y2 = y2, y1\n",
    "    return ((y1, x1), (y2, x2))"
   ]
  },
  {
   "cell_type": "markdown",
   "metadata": {},
   "source": [
    "Then create a figure using `folium`."
   ]
  },
  {
   "cell_type": "code",
   "execution_count": null,
   "metadata": {},
   "outputs": [],
   "source": [
    "fig = Figure(width=\"800px\", height=\"400px\")\n",
    "map1 = folium.Map(tiles='https://mt1.google.com/vt/lyrs=y&x={x}&y={y}&z={z}', attr='Google')\n",
    "fig.add_child(map1)\n",
    "\n",
    "# Add Convex Hull Polygon\n",
    "folium.GeoJson(roi_poly,\n",
    "                name='convex hull',\n",
    "                ).add_to(map1)\n",
    "\n",
    "# # Add landcover classification geodataframe\n",
    "# polygon.explore(\n",
    "#     \"type\",\n",
    "#     popup=True,\n",
    "#     categorical=True,\n",
    "#     cmap='Set3',\n",
    "#     style_kwds=dict(opacity=0.7, fillOpacity=0.4),\n",
    "#     name=\"Carpenteria Salt Marsh Landcover\",\n",
    "#     m=map1\n",
    "# )\n",
    "\n",
    "map1.add_child(folium.LayerControl())\n",
    "map1.fit_bounds(bounds=convert_bounds(polygon.unary_union.bounds))\n",
    "display(fig)"
   ]
  },
  {
   "cell_type": "markdown",
   "metadata": {},
   "source": [
    "Above we can see our region of interest (ROI) and the landcover classification polygon that we opened. We can hover over different areas to see the land cover class."
   ]
  },
  {
   "cell_type": "markdown",
   "metadata": {},
   "source": [
    "Lastly we need to convert our polygon to a list of coordinate pairs."
   ]
  },
  {
   "cell_type": "code",
   "execution_count": null,
   "metadata": {},
   "outputs": [],
   "source": [
    "# Set ROI as list of exterior polygon vertices as coordinate pairs\n",
    "roi = list(roi_poly.exterior.coords)"
   ]
  },
  {
   "cell_type": "markdown",
   "metadata": {},
   "source": [
    "### 2.2 Define Collections of Interest\n",
    "\n",
    "We need to specify which products we want to search for using their short-names. As mentioned above, we will conduct our search using the EMIT Level 2A Reflectance (EMITL2ARFL) and ECOSTRESS Level 2 Tiled Land Surface Temperature and Emmissivity (ECO_L2T_LSTE). \n",
    "\n",
    ">Note: Here we use the Tiled ECOSTRESS LSTE Product. This will also work with the gridded LSTE and the swath; however, the swath product does not have a browse image for the visualization in section 4, and will require additional processing for subsequent analysis."
   ]
  },
  {
   "cell_type": "code",
   "execution_count": null,
   "metadata": {},
   "outputs": [],
   "source": [
    "# Data Collections for our search\n",
    "collections = ['EMITL2ARFL', 'ECO_L2T_LSTE']"
   ]
  },
  {
   "cell_type": "markdown",
   "metadata": {},
   "source": [
    "### 2.3 Define Date Range\n",
    "\n",
    "For our date range, we'll look at data collected across the month of April 2023. The `date_range` can be specified as a pair of dates, start and end (up to, not including)."
   ]
  },
  {
   "cell_type": "code",
   "execution_count": null,
   "metadata": {},
   "outputs": [],
   "source": [
    "# Define Date Range\n",
    "date_range = ('2023-07-01','2023-10-01')"
   ]
  },
  {
   "cell_type": "markdown",
   "metadata": {},
   "source": [
    "### 2.4 Searching\n",
    "\n",
    "Submit a query using `earthaccess`."
   ]
  },
  {
   "cell_type": "code",
   "execution_count": null,
   "metadata": {},
   "outputs": [],
   "source": [
    "results = earthaccess.search_data(\n",
    "    short_name=collections,\n",
    "    polygon=roi,\n",
    "    temporal=date_range,\n",
    "    count=500\n",
    ")"
   ]
  },
  {
   "cell_type": "code",
   "execution_count": null,
   "metadata": {},
   "outputs": [],
   "source": [
    "results"
   ]
  },
  {
   "cell_type": "markdown",
   "metadata": {},
   "source": [
    "---\n",
    "\n",
    "## 3. Organizing and Filtering Results\n",
    "\n",
    "As we can see from above, the results object contains a list of objects with metadata and links. We can convert this to a more readable format, a dataframe. In addition, we can make it a geodataframe by taking the spatial metadata and creating a shapely polygon representing the spatial coverage, and further customize which information we want to use from other metadata fields.\n",
    "\n",
    "First, we define some functions to help us create a shapely object for our geodataframe, and retrieve the specific browse image URLs that we want. By default the browse image selected by `earthaccess` is the first one in the list, but the ECO_L2_LSTE has several browse images and we want to make sure we retrieve the `png` file, which is a preview of the LSTE."
   ]
  },
  {
   "cell_type": "code",
   "execution_count": null,
   "metadata": {},
   "outputs": [],
   "source": [
    "# Function to create shapely polygon of spatial coverage\n",
    "def get_shapely_object(result:earthaccess.results.DataGranule):\n",
    "    # Get Geometry Keys\n",
    "    geo = result['umm']['SpatialExtent']['HorizontalSpatialDomain']['Geometry']\n",
    "    keys = geo.keys()\n",
    "\n",
    "    if 'BoundingRectangles' in keys:\n",
    "        bounding_rectangle = geo['BoundingRectangles'][0]\n",
    "        # Create bbox tuple\n",
    "        bbox_coords = (bounding_rectangle['WestBoundingCoordinate'],bounding_rectangle['SouthBoundingCoordinate'],\n",
    "                    bounding_rectangle['EastBoundingCoordinate'],bounding_rectangle['NorthBoundingCoordinate'])\n",
    "        # Create shapely geometry from bbox\n",
    "        shape = geometry.box(*bbox_coords, ccw=True)\n",
    "    elif 'GPolygons' in keys:\n",
    "        points = geo['GPolygons'][0]['Boundary']['Points']\n",
    "        # Create shapely geometry from polygons\n",
    "        shape = geometry.Polygon([[p['Longitude'],p['Latitude']] for p in points])\n",
    "    else:\n",
    "         raise ValueError('Provided result does not contain bounding boxes/polygons or is incompatible.')\n",
    "    return(shape)\n",
    "\n",
    "# Retrieve png browse image if it exists or first jpg in list of urls\n",
    "def get_png(result:earthaccess.results.DataGranule):\n",
    "    https_links = [link for link in result.dataviz_links() if 'https' in link]\n",
    "    if len(https_links) == 1:\n",
    "        browse = https_links[0]\n",
    "    elif len(https_links) == 0:\n",
    "        browse = 'no browse image'\n",
    "        warnings.warn(f\"There is no browse imagery for {result['umm']['GranuleUR']}.\")\n",
    "    else:\n",
    "        browse = [png for png in https_links if '.png' in png][0]\n",
    "    return(browse)"
   ]
  },
  {
   "cell_type": "markdown",
   "metadata": {},
   "source": [
    "Now that we have our functions we can create a dataframe, then calculate and add our shapely geometries to make a geodataframe. After that, add a column for our browse image urls and print the number of granules in our results, so we can monitor the quantity we  are working with a we winnow down to the data we want."
   ]
  },
  {
   "cell_type": "code",
   "execution_count": null,
   "metadata": {},
   "outputs": [],
   "source": [
    "# Create Dataframe of Results Metadata\n",
    "results_df = pd.json_normalize(results)\n",
    "# Create shapely polygons for result\n",
    "geometries = [get_shapely_object(results[index]) for index in results_df.index.to_list()]\n",
    "# Convert to GeoDataframe\n",
    "gdf = gpd.GeoDataFrame(results_df, geometry=geometries, crs=\"EPSG:4326\")\n",
    "# Remove results df, no longer needed\n",
    "del results_df\n",
    "# Add browse imagery links\n",
    "gdf['browse'] = [get_png(granule) for granule in results]\n",
    "gdf['shortname'] = [result['umm']['CollectionReference']['ShortName'] for result in results]\n",
    "# Preview GeoDataframe\n",
    "print(f'{gdf.shape[0]} granules total')"
   ]
  },
  {
   "cell_type": "markdown",
   "metadata": {},
   "source": [
    "Preview our geodataframe to get an idea what it looks like."
   ]
  },
  {
   "cell_type": "code",
   "execution_count": null,
   "metadata": {},
   "outputs": [],
   "source": [
    "gdf.head()"
   ]
  },
  {
   "cell_type": "markdown",
   "metadata": {},
   "source": [
    "There are a lot of columns with data that is not relevant to our goal, so we can drop those. To do that, list the names of colums."
   ]
  },
  {
   "cell_type": "code",
   "execution_count": null,
   "metadata": {},
   "outputs": [],
   "source": [
    "# List Column Names\n",
    "gdf.columns"
   ]
  },
  {
   "cell_type": "markdown",
   "metadata": {},
   "source": [
    "Now create a list of columns to keep and use it to filter the dataframe."
   ]
  },
  {
   "cell_type": "code",
   "execution_count": null,
   "metadata": {},
   "outputs": [],
   "source": [
    "# Create a list of columns to keep\n",
    "keep_cols = ['meta.concept-id','meta.native-id', 'umm.TemporalExtent.RangeDateTime.BeginningDateTime','umm.TemporalExtent.RangeDateTime.EndingDateTime','umm.CloudCover','umm.DataGranule.DayNightFlag','geometry','browse', 'shortname']\n",
    "# Remove unneeded columns\n",
    "gdf = gdf[gdf.columns.intersection(keep_cols)]\n",
    "gdf.head()"
   ]
  },
  {
   "cell_type": "markdown",
   "metadata": {},
   "source": [
    "This is looking better, but we can make it more readable by renaming our columns."
   ]
  },
  {
   "cell_type": "code",
   "execution_count": null,
   "metadata": {},
   "outputs": [],
   "source": [
    "# Rename some Columns\n",
    "gdf.rename(columns = {'meta.concept-id':'concept_id','meta.native-id':'granule',\n",
    "                       'umm.TemporalExtent.RangeDateTime.BeginningDateTime':'start_datetime',\n",
    "                      'umm.TemporalExtent.RangeDateTime.EndingDateTime':'end_datetime',\n",
    "                      'umm.CloudCover':'cloud_cover',\n",
    "                      'umm.DataGranule.DayNightFlag':'day_night'}, inplace=True)\n",
    "gdf.head()"
   ]
  },
  {
   "cell_type": "markdown",
   "metadata": {},
   "source": [
    "> **Note: If querying on-premises (not cloud) LP DAAC datasets, the `meta.concept-id` will not show as `xxxxxx-LPCLOUD`. For these datasets, the granule name can be retrieved from the `umm.DataGranule.Identifiers` column.**"
   ]
  },
  {
   "cell_type": "markdown",
   "metadata": {},
   "source": [
    "We can filter using the day/night flag as well, but this step will be unnecessary as we check to ensure all results from ECOSTRESS fall within an hour of resulting EMIT granules."
   ]
  },
  {
   "cell_type": "code",
   "execution_count": null,
   "metadata": {},
   "outputs": [],
   "source": [
    "# gdf = gdf[gdf['day_night'].str.contains('Day')]"
   ]
  },
  {
   "cell_type": "markdown",
   "metadata": {},
   "source": [
    "Our first step toward filtering the datasets will be to add a a column with a `datetime`. You may have noticed that the date format is similar for ECOSTRESS and EMIT, but the ECOSTRESS data has an additional fractional seconds. To account for this discrepancy, pass the `format='ISO8601'`argument to the `to_datetime` function."
   ]
  },
  {
   "cell_type": "code",
   "execution_count": null,
   "metadata": {},
   "outputs": [],
   "source": [
    "gdf['datetime_obj'] = pd.to_datetime(gdf['start_datetime'], format='ISO8601')"
   ]
  },
  {
   "cell_type": "markdown",
   "metadata": {},
   "source": [
    "We can roughly visualize the quantity of results by month at our location using a histogram with 8 bins (Jan up to Sept)."
   ]
  },
  {
   "cell_type": "code",
   "execution_count": null,
   "metadata": {},
   "outputs": [],
   "source": [
    "gdf.hist(column='datetime_obj', by='shortname', bins=9, color='green', edgecolor='black', linewidth=1, sharey=True)"
   ]
  },
  {
   "cell_type": "markdown",
   "metadata": {},
   "source": [
    "Now we will separate the results into two dataframes, one for ECOTRESS and one for EMIT and print the number of results for each so we can monitor how many granules we're filtering."
   ]
  },
  {
   "cell_type": "code",
   "execution_count": null,
   "metadata": {},
   "outputs": [],
   "source": [
    "# Suppress Setting with Copy Warning - not applicable in this use case\n",
    "pd.options.mode.chained_assignment = None  # default='warn'\n",
    "\n",
    "# Split into two dataframes - ECO and EMIT\n",
    "eco_gdf = gdf[gdf['granule'].str.contains('ECO')]\n",
    "emit_gdf = gdf[gdf['granule'].str.contains('EMIT')]\n",
    "print(f' ECOSTRESS Granules: {eco_gdf.shape[0]} \\n EMIT Granules: {emit_gdf.shape[0]}')"
   ]
  },
  {
   "cell_type": "code",
   "execution_count": null,
   "metadata": {},
   "outputs": [],
   "source": [
    "emit_gdf.head()"
   ]
  },
  {
   "cell_type": "markdown",
   "metadata": {},
   "source": [
    "We still haven't filtered the locations where EMIT and ECOSTRESS have data at the same spatial location and time-frame. The EMIT acquisition mask has been added to ECOSTRESS, so in most cases if EMIT is collecting data, so will ECOSTRESS, but there are edge cases where this is not true.  To do this we'll use two filters to catch the edge-cases, and provide an example that can be used with other datasets. \n",
    "\n",
    "First, since EMIT has a smaller swath width, we can can use a unary union of the spatial coverage present in our geodataframe to filter out ecostress granules that do not overlap with it."
   ]
  },
  {
   "cell_type": "code",
   "execution_count": null,
   "metadata": {},
   "outputs": [],
   "source": [
    "# Subset ECOSTRESS Granules in Geodataframe by intersection with EMIT granules\n",
    "## Create new column based on intersection with union of EMIT polygons.\n",
    "eco_gdf['intersects'] = eco_gdf.intersects(emit_gdf.unary_union)\n",
    "## Apply subsetting\n",
    "eco_gdf = eco_gdf[eco_gdf['intersects'] == True]\n",
    "print(f' ECOSTRESS Granules: {eco_gdf.shape[0]} \\n EMIT Granules: {emit_gdf.shape[0]}')"
   ]
  },
  {
   "cell_type": "markdown",
   "metadata": {},
   "source": [
    "In this instance, our results aren't narrowed because our region of interest is smaller than a single EMIT scene. If the spatial ROI was very large, this would be much more unlikely.\n",
    "\n",
    "Additionally, we want to make sure that data in our results are collected at the same time. For EMIT and ECOSTRESS, the EMIT acquisition mask has been added to the ECOSTRESS mask, meaning that if there is an EMIT scene, there should also be an ECOSTRESS scene acquired at the same time. In practice, however, the timestamps on the scenes can vary slightly. In order to capture this slight variability,  we need to use a range instead of a single timestamp to capture concurrent data. To do this, we'll ensure all ECOSTRESS granule start times fall within 10 minutes of any of the EMIT granules in our results, and vice-versa. "
   ]
  },
  {
   "cell_type": "markdown",
   "metadata": {},
   "source": [
    "\n",
    "Write a function to evaluate whether these `datetime` objects fall within 10 minutes of one another using the `timedelta` function."
   ]
  },
  {
   "cell_type": "code",
   "execution_count": null,
   "metadata": {},
   "outputs": [],
   "source": [
    "# Function to Filter timestamps that do not fall within a time_delta of timestamps from the other acquisition time\n",
    "def concurrent_match(gdf_a:pd.DataFrame, gdf_b:pd.DataFrame, col_name:str, time_delta:timedelta):\n",
    "    \"\"\"\n",
    "    Cross references dataframes containing a datetime object column and keeps rows in \n",
    "    each that fall within the provided timedelta of the other. Acceptable time_delta examples:\n",
    "    \n",
    "    months=1\n",
    "    days=1\n",
    "    hours=1\n",
    "    minutes=1\n",
    "    seconds=1 \n",
    "\n",
    "    \"\"\"\n",
    "    # Match Timestamps from Dataframe A with Time-range of entries in Dataframe B\n",
    "    # Create empty list\n",
    "    a_list = []\n",
    "    # Iterate results for product a based on index values\n",
    "    for _n in gdf_b.index.to_list():\n",
    "        # Find where product b is within the window of each product a result\n",
    "        a_matches = (gdf_a[col_name] > gdf_b[col_name][_n]-time_delta) & (gdf_a[col_name] < gdf_b[col_name][_n]+time_delta)\n",
    "        # Append list with values\n",
    "        a_list.append(a_matches)\n",
    "    # Match Timestamps from Dataframe B with Time-range of entries in Dataframe A\n",
    "    # Create empy list\n",
    "    b_list =[]\n",
    "    for _m in gdf_a.index.to_list():\n",
    "        # Find where product a is within the window of each product b result\n",
    "        b_matches = (gdf_b[col_name] > gdf_a[col_name][_m]-time_delta) &  (gdf_b[col_name] < gdf_a[col_name][_m]+time_delta)\n",
    "        # Append list with values\n",
    "        b_list.append(b_matches)\n",
    "    # Filter Original Dataframes by summing list of bools, 0 = outside of all time-ranges\n",
    "    a_filtered = gdf_a.loc[sum(a_list) > 0]\n",
    "    b_filtered = gdf_b.loc[sum(b_list) > 0]\n",
    "    return(a_filtered, b_filtered)"
   ]
  },
  {
   "cell_type": "markdown",
   "metadata": {},
   "source": [
    "Now run our function."
   ]
  },
  {
   "cell_type": "code",
   "execution_count": null,
   "metadata": {},
   "outputs": [],
   "source": [
    "\n",
    "eco_gdf, emit_gdf = concurrent_match(eco_gdf,emit_gdf, col_name='datetime_obj',time_delta=timedelta(minutes=10))\n",
    "print(f' ECOSTRESS Granules: {eco_gdf.shape[0]} \\n EMIT Granules: {emit_gdf.shape[0]}')"
   ]
  },
  {
   "cell_type": "markdown",
   "metadata": {},
   "source": [
    "---\n",
    "## 4. Visualizing Intersecting Coverage\n",
    "\n",
    "Now that we have geodataframes containing some concurrent data, we can visualize them on a map using `folium`. It's often difficult to visualize a large time-series of scenes, so we've included an example in Appendix A1 on how to filter to a single day."
   ]
  },
  {
   "cell_type": "code",
   "execution_count": null,
   "metadata": {},
   "outputs": [],
   "source": [
    "# Plot Using Folium\n",
    "\n",
    "# Create Figure and Select Background Tiles\n",
    "fig = Figure(width=\"1100px\", height=\"550px\")\n",
    "map1 = folium.Map(tiles='https://mt1.google.com/vt/lyrs=y&x={x}&y={y}&z={z}', attr='Google')\n",
    "fig.add_child(map1)\n",
    "\n",
    "# Plot STAC ECOSTRESS Results - note we must drop the datetime_obj columns for this to work\n",
    "eco_gdf.drop(columns=['datetime_obj']).explore(\n",
    "    \"granule\",\n",
    "    categorical=True,\n",
    "    tooltip=[\n",
    "        \"granule\",\n",
    "        \"start_datetime\",\n",
    "        \"cloud_cover\",\n",
    "    ],\n",
    "    popup=True,\n",
    "    style_kwds=dict(fillOpacity=0.1, width=2),\n",
    "    name=\"ECOSTRESS\",\n",
    "    m=map1,\n",
    ")\n",
    "\n",
    "# Plot STAC EMITL2ARFL Results - note we must drop the datetime_obj columns for this to work\n",
    "emit_gdf.drop(columns=['datetime_obj']).explore(\n",
    "    \"granule\",\n",
    "    categorical=True,\n",
    "    tooltip=[\n",
    "        \"granule\",\n",
    "        \"start_datetime\",\n",
    "        \"cloud_cover\",\n",
    "    ],\n",
    "    popup=True,\n",
    "    style_kwds=dict(fillOpacity=0.1, width=2),\n",
    "    name=\"EMIT\",\n",
    "    m=map1,\n",
    ")\n",
    "\n",
    "# ECOSTRESS Browse Images - Comment out to remove\n",
    "for _n in eco_gdf.index.to_list():\n",
    "    folium.raster_layers.ImageOverlay(\n",
    "        image=eco_gdf['browse'][_n],\n",
    "        name=eco_gdf['granule'][_n],\n",
    "        bounds=[[eco_gdf.bounds['miny'][_n], eco_gdf.bounds['minx'][_n]], [eco_gdf.bounds['maxy'][_n], eco_gdf.bounds['maxx'][_n]]],\n",
    "        interactive=False,\n",
    "        cross_origin=False,\n",
    "        opacity=0.75,\n",
    "        zindex=1,\n",
    "        ).add_to(map1)\n",
    "\n",
    "# Plot Region of Interest\n",
    "polygon.explore(\n",
    "    popup=False,\n",
    "    style_kwds=dict(fillOpacity=0.1, width=2),\n",
    "    name=\"Region of Interest\",\n",
    "    m=map1\n",
    ")\n",
    "\n",
    "map1.fit_bounds(bounds=convert_bounds(gdf.unary_union.bounds))\n",
    "map1.add_child(folium.LayerControl())\n",
    "display(fig)"
   ]
  },
  {
   "cell_type": "markdown",
   "metadata": {},
   "source": [
    "In the figure above, you can zoom in and out, click and drag to reposition the legend, and add or remove layers using the layer control in the top right. Notice that since we're using the tiled ecostress product, we have 2 overlapping tiles at our ROI. You can visualize the tiles by adding or removing the layers."
   ]
  },
  {
   "cell_type": "markdown",
   "metadata": {},
   "source": [
    "### 4.2 Previewing EMIT Browse Imagery\n",
    "The EMIT browse imagery is not orthorectified, so it can't be visualized on a plot like the ECOSTRESS browse imagery. To get an idea what scenes look like we can plot them in a grid using matplotlib.\n",
    "\n",
    "> Note: The black space is indicative of onboard cloud masking that occurs before data is downlinked from the ISS."
   ]
  },
  {
   "cell_type": "code",
   "execution_count": null,
   "metadata": {},
   "outputs": [],
   "source": [
    "cols = 3\n",
    "rows = math.ceil(len(emit_gdf)/cols)\n",
    "fig, ax = plt.subplots(rows, cols, figsize=(20,20))\n",
    "ax = ax.flatten()\n",
    "\n",
    "for _n, index in enumerate(emit_gdf.index.to_list()):\n",
    "    img = io.imread(emit_gdf['browse'][index])\n",
    "    ax[_n].imshow(img)\n",
    "    ax[_n].set_title(f\"Index: {index} - {emit_gdf['granule'][index]}\")\n",
    "    ax[_n].axis('off')\n",
    "plt.tight_layout()\n",
    "plt.show"
   ]
  },
  {
   "cell_type": "markdown",
   "metadata": {},
   "source": [
    "### 4.3 Further Filtering\n",
    "\n",
    "We can see that some of these granules likely won't work because of the large amount of cloud cover, we can use a list of these to filter them out. Make a list of indexes to filter out."
   ]
  },
  {
   "cell_type": "code",
   "execution_count": null,
   "metadata": {},
   "outputs": [],
   "source": [
    "# Bad granule list\n",
    "bad_granules = [27,74,87]"
   ]
  },
  {
   "cell_type": "code",
   "execution_count": null,
   "metadata": {},
   "outputs": [],
   "source": [
    "import numpy as np"
   ]
  },
  {
   "cell_type": "markdown",
   "metadata": {},
   "source": [
    "Filter out the bad granules."
   ]
  },
  {
   "cell_type": "code",
   "execution_count": null,
   "metadata": {},
   "outputs": [],
   "source": [
    "emit_gdf = emit_gdf[~emit_gdf.index.isin(bad_granules)]"
   ]
  },
  {
   "cell_type": "markdown",
   "metadata": {},
   "source": [
    "Now that we've narrowed our EMIT results we can again filter the ecostress granules based on their concurrency with our filtered EMIT granules."
   ]
  },
  {
   "cell_type": "code",
   "execution_count": null,
   "metadata": {},
   "outputs": [],
   "source": [
    "eco_gdf, emit_gdf = concurrent_match(eco_gdf,emit_gdf, col_name='datetime_obj',time_delta=timedelta(hours=1))\n",
    "print(f' ECOSTRESS Granules: {eco_gdf.shape[0]} \\n EMIT Granules: {emit_gdf.shape[0]}')"
   ]
  },
  {
   "cell_type": "markdown",
   "metadata": {},
   "source": [
    "---\n",
    "\n",
    "## 5. Generating a list of URLs and downloading data\n",
    "\n",
    "Creating a list of results URLs will include all of these assets, so if we only want a subset we need an additional filter to keep the specific assets we want.\n",
    "\n",
    "If you look back, you can see we kept the same indexing throughout the notebook. This enables us to simply subset the `earthaccess` results object to retrieve the results we want. \n",
    "\n",
    "Create a list of index values to keep."
   ]
  },
  {
   "cell_type": "code",
   "execution_count": null,
   "metadata": {},
   "outputs": [],
   "source": [
    "keep_granules = eco_gdf.index.to_list()+emit_gdf.index.to_list()\n",
    "keep_granules.sort()"
   ]
  },
  {
   "cell_type": "markdown",
   "metadata": {},
   "source": [
    "Filter the results list."
   ]
  },
  {
   "cell_type": "code",
   "execution_count": null,
   "metadata": {},
   "outputs": [],
   "source": [
    "filtered_results = [result for i, result in enumerate(results) if i in keep_granules]"
   ]
  },
  {
   "cell_type": "markdown",
   "metadata": {},
   "source": [
    "Now we can download all of the associated assets, or retrieve the URLS and further filter them to specifically what we want."
   ]
  },
  {
   "cell_type": "code",
   "execution_count": null,
   "metadata": {},
   "outputs": [],
   "source": [
    "# Download All Assets for Granules in Filtered Results\n",
    "earthaccess.login(persist=True)\n",
    "earthaccess.download(filtered_results, '../../data/')"
   ]
  },
  {
   "cell_type": "markdown",
   "metadata": {},
   "source": [
    "Or we can create a list of URLs and use that to further refine which files we download."
   ]
  },
  {
   "cell_type": "code",
   "execution_count": null,
   "metadata": {},
   "outputs": [],
   "source": [
    "# Retrieve URLS for Assets\n",
    "results_urls = [granule.data_links() for granule in filtered_results]"
   ]
  },
  {
   "cell_type": "markdown",
   "metadata": {},
   "source": [
    "Granules often have several assets associated with them, for example, `ECO_L2T_LSTE` has several assets:\n",
    " - Water Mask (water)\n",
    " - Cloud Mask (cloud)\n",
    " - Quality (QC)\n",
    " - Land Surface Temperature (LST)\n",
    " - Land Surface Temperature Error (LST_err)\n",
    " - Wide Band Emissivity (EmisWB)\n",
    " - Height (height)\n",
    "\n",
    "The results list we just generated contains URLs to all of these files. We can further filter our results list using string matching to remove unwanted assets.\n",
    "\n",
    "Create a list of strings and enumerate through our results_url list to filter out unwanted assets."
   ]
  },
  {
   "cell_type": "code",
   "execution_count": null,
   "metadata": {},
   "outputs": [],
   "source": [
    "filtered_asset_links = []\n",
    "# Pick Desired Assets (leave _ on RFL to distinguish from RFLUNC, LST. to distinguish from LST_err)\n",
    "desired_assets = ['RFL_', 'LST.'] # Add more or do individually for reflectance, reflectance uncertainty, or mask\n",
    "# Step through each sublist (granule) and filter based on desired assets.\n",
    "for n, granule in enumerate(results_urls):\n",
    "    for url in granule: \n",
    "        asset_name = url.split('/')[-1]\n",
    "        if any(asset in asset_name for asset in desired_assets):\n",
    "            filtered_asset_links.append(url)\n",
    "filtered_asset_links"
   ]
  },
  {
   "cell_type": "markdown",
   "metadata": {},
   "source": [
    "Uncomment the cell below (select all, then ctrl+/) and use your NASA Earthdata Login to sign in and download the data that we've filtered."
   ]
  },
  {
   "cell_type": "code",
   "execution_count": null,
   "metadata": {},
   "outputs": [],
   "source": [
    "# Get Https Session using Earthdata Login Info\n",
    "earthaccess.login()\n",
    "fs = earthaccess.get_fsspec_https_session()\n",
    "# Retrieve granule asset ID from URL (to maintain existing naming convention)\n",
    "for url in filtered_asset_links:\n",
    "    granule_asset_id = url.split('/')[-1]\n",
    "    # Define Local Filepath\n",
    "    fp = f'../data/{granule_asset_id}'\n",
    "    # Download the Granule Asset if it doesn't exist\n",
    "    if not os.path.isfile(fp):\n",
    "        fs.download(url, fp)"
   ]
  },
  {
   "cell_type": "markdown",
   "metadata": {},
   "source": [
    "Congratulations, now you you have downloaded concurrent data from the ECOSTRESS and EMIT instruments on the ISS."
   ]
  },
  {
   "cell_type": "markdown",
   "metadata": {},
   "source": [
    "---\n",
    "\n",
    "## Contact Info:  \n",
    "\n",
    "Email: LPDAAC@usgs.gov  \n",
    "Voice: +1-866-573-3222  \n",
    "Organization: Land Processes Distributed Active Archive Center (LP DAAC)¹  \n",
    "Website: <https://lpdaac.usgs.gov/>  \n",
    "Date last modified: 09-27-2023  \n",
    "\n",
    "¹Work performed under USGS contract G15PD00467 for NASA contract NNG14HH33I. "
   ]
  },
  {
   "cell_type": "markdown",
   "metadata": {},
   "source": [
    "---\n",
    "\n",
    "## Appendices \n",
    "\n",
    "These contain some extra code that may be useful when performing a similar workflow.\n",
    "\n",
    "### A1. Further Limiting Search for Visualization Purposes\n",
    "\n",
    "A large quantity of results may be difficult to understand when mapping with folium. We can create a subset that falls within a single day. First add another column of dates only, then find the unique dates.\n"
   ]
  },
  {
   "cell_type": "code",
   "execution_count": null,
   "metadata": {},
   "outputs": [],
   "source": [
    "# eco_gdf['date'] = eco_gdf['start_datetime'].str.split('T').str[0]\n",
    "# emit_gdf['date'] = emit_gdf['start_datetime'].str.split('T').str[0]\n",
    "# emit_gdf['date'].unique()"
   ]
  },
  {
   "cell_type": "markdown",
   "metadata": {},
   "source": [
    "Filter both sets of results using a single date."
   ]
  },
  {
   "cell_type": "code",
   "execution_count": null,
   "metadata": {},
   "outputs": [],
   "source": [
    "# single_day_eco = eco_gdf#[eco_gdf['date'] == '2023-04-23']\n",
    "# single_day_emit = emit_gdf#[emit_gdf['date'] == '2023-04-23']\n",
    "# print(f' ECOSTRESS Granules: {single_day_eco.shape[0]} \\n EMIT Granules: {single_day_emit.shape[0]}')"
   ]
  },
  {
   "cell_type": "markdown",
   "metadata": {},
   "source": [
    "\n",
    "\n",
    "### A2. Convert Shapefile to GeoJSON\n",
    "\n",
    "We can convert a shapefile to a geojson using the following cell. Note that we need to reorder the polygon external vertices so we can submit them as a list of points for our search."
   ]
  },
  {
   "cell_type": "code",
   "execution_count": null,
   "metadata": {},
   "outputs": [],
   "source": [
    "# # Use Sedgwick Reserve Shapefile\n",
    "# # Open Shapefile\n",
    "# polygon = gpd.read_file('../data/Sedgwick_Boundary/Sedgwick_Boundary.shp').to_crs(\"EPSG:4326\")\n",
    "# # Reorder vertices into Counter-clockwise order\n",
    "# polygon.geometry[0] = orient(polygon.geometry[0], sign=1.0)\n",
    "# # Save as a geojson (not necessary)\n",
    "# polygon.to_file('../data/sedgwick_boundary_epsg4326.geojson', driver='GeoJSON')"
   ]
  }
 ],
 "metadata": {
  "kernelspec": {
   "display_name": "Python 3 (ipykernel)",
   "language": "python",
   "name": "python3"
  },
  "language_info": {
   "codemirror_mode": {
    "name": "ipython",
    "version": 3
   },
   "file_extension": ".py",
   "mimetype": "text/x-python",
   "name": "python",
   "nbconvert_exporter": "python",
   "pygments_lexer": "ipython3",
   "version": "3.9.18"
  }
 },
 "nbformat": 4,
 "nbformat_minor": 4
}
