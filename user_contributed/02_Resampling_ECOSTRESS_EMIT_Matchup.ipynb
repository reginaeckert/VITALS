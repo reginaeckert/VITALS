{
 "cells": [
  {
   "cell_type": "code",
   "execution_count": null,
   "id": "36e8c927",
   "metadata": {},
   "outputs": [],
   "source": [
    "#%matplotlib widget\n",
    "from matplotlib import pyplot as plt\n",
    "import numpy as np\n",
    "import scipy.io as scio\n",
    "import netCDF4\n",
    "import sys\n",
    "sys.path.append('./modules/')\n",
    "from emit_tools import emit_xarray\n",
    "import xarray as xr\n",
    "import rioxarray\n",
    "import holoviews as hv\n",
    "import hvplot.xarray\n",
    "import rasterio\n",
    "from rasterio.plot import show\n",
    "from osgeo import osr, gdal\n",
    "from scipy import interpolate\n"
   ]
  },
  {
   "cell_type": "markdown",
   "id": "8e5b1ef3",
   "metadata": {},
   "source": [
    "### Read in EMIT data"
   ]
  },
  {
   "cell_type": "code",
   "execution_count": null,
   "id": "a3fa546d",
   "metadata": {},
   "outputs": [],
   "source": [
    "# Read in with xarray, using emit_xarry module helper tools (useful for orthorectification)\n",
    "fp = '../data/EMIT_L2A_RFL_001_20230728T214106_2320914_002.nc'\n",
    "ds_geo = emit_xarray(fp, ortho=True)\n"
   ]
  },
  {
   "cell_type": "code",
   "execution_count": null,
   "id": "98506716",
   "metadata": {},
   "outputs": [],
   "source": [
    "ds_geo.attrs['spatial_ref']"
   ]
  },
  {
   "cell_type": "code",
   "execution_count": null,
   "id": "db6df8a9",
   "metadata": {},
   "outputs": [],
   "source": [
    "ds_geo.geotransform"
   ]
  },
  {
   "cell_type": "code",
   "execution_count": null,
   "id": "123c6259",
   "metadata": {},
   "outputs": [],
   "source": [
    "ds_geo.sel(wavelengths=850, method='nearest').hvplot.image(cmap='viridis', frame_width=500, geo=True, tiles='EsriImagery').opts(\n",
    "    xlabel=f'{ds_geo.longitude.long_name} ({ds_geo.longitude.units})', ylabel=f'{ds_geo.latitude.long_name} ({ds_geo.latitude.units})')"
   ]
  },
  {
   "cell_type": "markdown",
   "id": "53df84d4",
   "metadata": {},
   "source": [
    "### ECOSTRESS"
   ]
  },
  {
   "cell_type": "code",
   "execution_count": null,
   "id": "004f5fab",
   "metadata": {
    "scrolled": true
   },
   "outputs": [],
   "source": [
    "# Read in with xarray\n",
    "geotiff_path = '../data/ECOv002_L2T_LSTE_28691_004_11SLT_20230728T214058_0710_01_LST.tif'\n",
    "geotiff_da = rioxarray.open_rasterio(geotiff_path)\n",
    "geotiff_ds = geotiff_da.to_dataset('band')\n",
    "# Rename the variable to a more useful name\n",
    "geotiff_ds = geotiff_ds.rename({1: 'LSTE'})"
   ]
  },
  {
   "cell_type": "markdown",
   "id": "f7c2fb99",
   "metadata": {},
   "source": [
    "### Interpolate ECOSTRESS to EMIT data (scipy method)"
   ]
  },
  {
   "cell_type": "code",
   "execution_count": null,
   "id": "b3e10145",
   "metadata": {},
   "outputs": [],
   "source": [
    "def convert_xy_to_latlon(old_cs,new_cs,x_coordinates,y_coordinates):\n",
    "    # create a transform object to convert between coordinate systems\n",
    "    transform = osr.CoordinateTransformation(old_cs,new_cs) \n",
    "    latlon = np.zeros((len(x_coordinates),3))\n",
    "    for ii in range(len(x_coordinates)):\n",
    "        latlon[ii,:] = transform.TransformPoint(x_coordinates[ii],y_coordinates[ii])\n",
    "    return latlon\n",
    "        "
   ]
  },
  {
   "cell_type": "code",
   "execution_count": null,
   "id": "011a384a",
   "metadata": {},
   "outputs": [],
   "source": [
    "ds = gdal.Open(geotiff_path)\n",
    "\n",
    "# get the existing coordinate system\n",
    "old_cs= osr.SpatialReference()\n",
    "old_cs.ImportFromWkt(ds.GetProjectionRef())\n",
    "\n",
    "wgs84_wkt = ds_geo.attrs['spatial_ref']\n",
    "new_cs = osr.SpatialReference()\n",
    "new_cs .ImportFromWkt(wgs84_wkt)\n",
    "\n",
    "# create a transform object to convert between coordinate systems\n",
    "transform = osr.CoordinateTransformation(old_cs,new_cs) \n",
    "\n",
    "#get the coordinates in lat long\n",
    "latlon = convert_xy_to_latlon(old_cs,new_cs,geotiff_ds.coords['x'].values,geotiff_ds.coords['y'].values)\n",
    "\n",
    "#Assign them in xarray\n",
    "geotiff_ds = geotiff_ds.assign_coords({'latitude':latlon[:,0],'longitude':latlon[:,1]})\n"
   ]
  },
  {
   "cell_type": "code",
   "execution_count": null,
   "id": "60f1825b",
   "metadata": {},
   "outputs": [],
   "source": [
    "#The new latlon grid we want things on\n",
    "latlon_new = np.meshgrid(ds_geo.coords['latitude'].values,ds_geo.coords['longitude'].values,indexing='ij')"
   ]
  },
  {
   "cell_type": "code",
   "execution_count": null,
   "id": "84abab25",
   "metadata": {},
   "outputs": [],
   "source": [
    "lste_interp = interpolate.interpn((geotiff_ds.coords['latitude'].values,geotiff_ds.coords['longitude'].values),\\\n",
    "                               geotiff_ds.LSTE.to_numpy(),\\\n",
    "                               (latlon_new[0],latlon_new[1]),\\\n",
    "                               bounds_error=False)"
   ]
  },
  {
   "cell_type": "code",
   "execution_count": null,
   "id": "f879063d",
   "metadata": {},
   "outputs": [],
   "source": [
    "nprfl = ds_geo.reflectance.to_numpy()"
   ]
  },
  {
   "cell_type": "code",
   "execution_count": null,
   "id": "5f1e03f5",
   "metadata": {},
   "outputs": [],
   "source": [
    "plt.figure()\n",
    "plt.imshow(lste_interp)\n",
    "ax = plt.gca()\n",
    "ax.set_ylim((1750,1250))\n",
    "ax.set_xlim((300,1000))"
   ]
  },
  {
   "cell_type": "code",
   "execution_count": null,
   "id": "f79027d3",
   "metadata": {
    "scrolled": true
   },
   "outputs": [],
   "source": [
    "plt.figure()\n",
    "plt.imshow(lste_interp)\n",
    "plt.imshow(nprfl[:,:,80])\n",
    "ax = plt.gca()\n",
    "ax.set_ylim((1750,1250))\n",
    "ax.set_xlim((300,1000))"
   ]
  },
  {
   "cell_type": "code",
   "execution_count": null,
   "id": "4d3b797e",
   "metadata": {},
   "outputs": [],
   "source": [
    "plt.figure()\n",
    "plt.imshow(lste_interp)\n",
    "plt.imshow(nprfl[:,:,80])"
   ]
  },
  {
   "cell_type": "code",
   "execution_count": null,
   "id": "d815a5b2",
   "metadata": {},
   "outputs": [],
   "source": [
    "# Can now use lste_interp and nprfl as the two data arrays\n",
    "# They aren't perfectly matching yet, but enough to get started"
   ]
  },
  {
   "cell_type": "markdown",
   "id": "941cd6e2",
   "metadata": {},
   "source": [
    "### Process ECOSTRESS to enhance thermal anomalies"
   ]
  },
  {
   "cell_type": "code",
   "execution_count": null,
   "id": "c052f328",
   "metadata": {},
   "outputs": [],
   "source": [
    "# *** Under construction *** #"
   ]
  },
  {
   "cell_type": "code",
   "execution_count": null,
   "id": "20d9a50f",
   "metadata": {},
   "outputs": [],
   "source": []
  },
  {
   "cell_type": "markdown",
   "id": "116a2030",
   "metadata": {},
   "source": [
    "### Other ways to read in EMIT data"
   ]
  },
  {
   "cell_type": "code",
   "execution_count": null,
   "id": "fec5b1b3",
   "metadata": {},
   "outputs": [],
   "source": [
    "#emit_data = scio.netcdf.netcdf_file('../data/EMIT_L2A_RFL_001_20230728T214106_2320914_002.nc',mode='r')\n",
    "emit_data = netCDF4.Dataset('../data/EMIT_L2A_RFL_001_20230728T214106_2320914_002.nc')\n",
    "emit_data_uncert = netCDF4.Dataset('../data/EMIT_L2A_RFLUNCERT_001_20230728T214106_2320914_002.nc')\n",
    "emit_data_mask = netCDF4.Dataset('../data/EMIT_L2A_MASK_001_20230728T214106_2320914_002.nc')"
   ]
  },
  {
   "cell_type": "code",
   "execution_count": null,
   "id": "b7b836f1",
   "metadata": {},
   "outputs": [],
   "source": [
    "emit_data"
   ]
  },
  {
   "cell_type": "code",
   "execution_count": null,
   "id": "00a35a62",
   "metadata": {},
   "outputs": [],
   "source": [
    "plt.figure()\n",
    "plt.plot(emit_data['/sensor_band_parameters/wavelengths/'][:])\n",
    "plt.plot(emit_data.groups['sensor_band_parameters'].variables['wavelengths'][:])"
   ]
  },
  {
   "cell_type": "code",
   "execution_count": null,
   "id": "07caa31c",
   "metadata": {},
   "outputs": [],
   "source": [
    "emit_data.groups['location'].variables.keys()"
   ]
  },
  {
   "cell_type": "code",
   "execution_count": null,
   "id": "6f9f1f65",
   "metadata": {},
   "outputs": [],
   "source": [
    "emit_data.variables['reflectance'].shape"
   ]
  },
  {
   "cell_type": "code",
   "execution_count": null,
   "id": "eb5f3b53",
   "metadata": {},
   "outputs": [],
   "source": [
    "plt.figure()\n",
    "plt.imshow(emit_data.variables['reflectance'][:,:,50])"
   ]
  },
  {
   "cell_type": "code",
   "execution_count": null,
   "id": "e7d7a961",
   "metadata": {},
   "outputs": [],
   "source": [
    "emit_data.groups['location'].variables['lon'].shape"
   ]
  },
  {
   "cell_type": "code",
   "execution_count": null,
   "id": "8958c2f6",
   "metadata": {},
   "outputs": [],
   "source": [
    "emit_data.groups['location'].variables['glt_x'].shape"
   ]
  },
  {
   "cell_type": "code",
   "execution_count": null,
   "id": "51c355b2",
   "metadata": {},
   "outputs": [],
   "source": [
    "plt.figure()\n",
    "plt.imshow(emit_data.groups['location'].variables['lon'])"
   ]
  },
  {
   "cell_type": "code",
   "execution_count": null,
   "id": "9eee62e5",
   "metadata": {},
   "outputs": [],
   "source": [
    "emit_data_mask['mask'].shape"
   ]
  },
  {
   "cell_type": "code",
   "execution_count": null,
   "id": "2fd72549",
   "metadata": {},
   "outputs": [],
   "source": [
    "plt.figure()\n",
    "plt.imshow(emit_data_mask['mask'][:,:,7])\n",
    "plt.colorbar()"
   ]
  },
  {
   "cell_type": "markdown",
   "id": "eec68ed4",
   "metadata": {},
   "source": [
    "### Other ways to read in ECOSTRESS data"
   ]
  },
  {
   "cell_type": "code",
   "execution_count": null,
   "id": "a462779f",
   "metadata": {},
   "outputs": [],
   "source": [
    "ds = gdal.Open('../data/ECOv002_L2T_LSTE_28691_004_11SLT_20230728T214058_0710_01_LST.tif')"
   ]
  },
  {
   "cell_type": "code",
   "execution_count": null,
   "id": "c4035936",
   "metadata": {},
   "outputs": [],
   "source": [
    "img = rasterio.open('../data/ECOSTRESS_LA_daytime_summer_LST_2018_2021.tif')\n",
    "show(img)"
   ]
  },
  {
   "cell_type": "code",
   "execution_count": null,
   "id": "97f89aba",
   "metadata": {},
   "outputs": [],
   "source": [
    "img = rasterio.open('../data/ECOv002_L2T_LSTE_28691_004_11SLT_20230728T214058_0710_01_LST.tif')\n",
    "show(img)"
   ]
  },
  {
   "cell_type": "code",
   "execution_count": null,
   "id": "6628bf8b",
   "metadata": {},
   "outputs": [],
   "source": [
    "img"
   ]
  }
 ],
 "metadata": {
  "kernelspec": {
   "display_name": "Python 3 (ipykernel)",
   "language": "python",
   "name": "python3"
  },
  "language_info": {
   "codemirror_mode": {
    "name": "ipython",
    "version": 3
   },
   "file_extension": ".py",
   "mimetype": "text/x-python",
   "name": "python",
   "nbconvert_exporter": "python",
   "pygments_lexer": "ipython3",
   "version": "3.9.18"
  }
 },
 "nbformat": 4,
 "nbformat_minor": 5
}
