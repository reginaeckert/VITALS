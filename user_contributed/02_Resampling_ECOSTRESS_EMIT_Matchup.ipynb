{
 "cells": [
  {
   "cell_type": "code",
   "execution_count": null,
   "id": "36e8c927",
   "metadata": {},
   "outputs": [],
   "source": [
    "#%matplotlib widget\n",
    "from matplotlib import pyplot as plt\n",
    "import numpy as np\n",
    "import scipy.io as scio\n",
    "import netCDF4\n",
    "import sys\n",
    "sys.path.append('./modules/')\n",
    "from emit_tools import emit_xarray\n",
    "import xarray as xr\n",
    "import rioxarray\n",
    "import holoviews as hv\n",
    "import hvplot.xarray\n",
    "import rasterio\n",
    "from rasterio.plot import show\n",
    "from osgeo import osr, gdal"
   ]
  },
  {
   "cell_type": "markdown",
   "id": "8e5b1ef3",
   "metadata": {},
   "source": [
    "### Read in EMIT data"
   ]
  },
  {
   "cell_type": "code",
   "execution_count": null,
   "id": "a3fa546d",
   "metadata": {},
   "outputs": [],
   "source": [
    "fp = '../data/EMIT_L2A_RFL_001_20230728T214106_2320914_002.nc'\n",
    "ds_geo = emit_xarray(fp, ortho=True)\n",
    "ds_geo"
   ]
  },
  {
   "cell_type": "code",
   "execution_count": null,
   "id": "123c6259",
   "metadata": {},
   "outputs": [],
   "source": [
    "ds_geo.sel(wavelengths=850, method='nearest').hvplot.image(cmap='viridis', frame_width=500, geo=True, tiles='EsriImagery').opts(\n",
    "    xlabel=f'{ds_geo.longitude.long_name} ({ds_geo.longitude.units})', ylabel=f'{ds_geo.latitude.long_name} ({ds_geo.latitude.units})')"
   ]
  },
  {
   "cell_type": "markdown",
   "id": "53df84d4",
   "metadata": {},
   "source": [
    "### ECOSTRESS"
   ]
  },
  {
   "cell_type": "code",
   "execution_count": null,
   "id": "004f5fab",
   "metadata": {
    "scrolled": true
   },
   "outputs": [],
   "source": [
    "geotiff_path = '../data/ECOv002_L2T_LSTE_28691_004_11SLT_20230728T214058_0710_01_LST.tif'\n",
    "geotiff_da = rioxarray.open_rasterio(geotiff_path)"
   ]
  },
  {
   "cell_type": "code",
   "execution_count": null,
   "id": "6349b86a",
   "metadata": {},
   "outputs": [],
   "source": [
    "geotiff_ds = geotiff_da.to_dataset('band')\n",
    "# Rename the variable to a more useful name\n",
    "geotiff_ds = geotiff_ds.rename({1: 'LSTE'})"
   ]
  },
  {
   "cell_type": "code",
   "execution_count": null,
   "id": "d50580f9",
   "metadata": {},
   "outputs": [],
   "source": [
    "geotiff_ds"
   ]
  },
  {
   "cell_type": "code",
   "execution_count": null,
   "id": "1d01f458",
   "metadata": {},
   "outputs": [],
   "source": [
    "geotiff_ds.LSTE.plot()"
   ]
  },
  {
   "cell_type": "markdown",
   "id": "326c2a6b",
   "metadata": {},
   "source": [
    "### Interpolate ECOSTRESS to EMIT data"
   ]
  },
  {
   "cell_type": "code",
   "execution_count": null,
   "id": "73eac51b",
   "metadata": {},
   "outputs": [],
   "source": [
    "# ecostress_resamp = geotiff_ds.interp_like(ds_geo)\n",
    "\n",
    "# *** Under construction *** #"
   ]
  },
  {
   "cell_type": "code",
   "execution_count": null,
   "id": "b2e9bf34",
   "metadata": {},
   "outputs": [],
   "source": []
  },
  {
   "cell_type": "markdown",
   "id": "79a24ea4",
   "metadata": {},
   "source": [
    "### Other ways to read in EMIT data"
   ]
  },
  {
   "cell_type": "code",
   "execution_count": null,
   "id": "fec5b1b3",
   "metadata": {},
   "outputs": [],
   "source": [
    "#emit_data = scio.netcdf.netcdf_file('../data/EMIT_L2A_RFL_001_20230728T214106_2320914_002.nc',mode='r')\n",
    "emit_data = netCDF4.Dataset('../data/EMIT_L2A_RFL_001_20230728T214106_2320914_002.nc')\n",
    "emit_data_uncert = netCDF4.Dataset('../data/EMIT_L2A_RFLUNCERT_001_20230728T214106_2320914_002.nc')\n",
    "emit_data_mask = netCDF4.Dataset('../data/EMIT_L2A_MASK_001_20230728T214106_2320914_002.nc')"
   ]
  },
  {
   "cell_type": "code",
   "execution_count": null,
   "id": "00a35a62",
   "metadata": {},
   "outputs": [],
   "source": [
    "plt.figure()\n",
    "plt.plot(emit_data['/sensor_band_parameters/wavelengths/'][:])\n",
    "plt.plot(emit_data.groups['sensor_band_parameters'].variables['wavelengths'][:])"
   ]
  },
  {
   "cell_type": "code",
   "execution_count": null,
   "id": "07caa31c",
   "metadata": {},
   "outputs": [],
   "source": [
    "emit_data.groups['location'].variables.keys()"
   ]
  },
  {
   "cell_type": "code",
   "execution_count": null,
   "id": "6f9f1f65",
   "metadata": {},
   "outputs": [],
   "source": [
    "emit_data.variables['reflectance'].shape"
   ]
  },
  {
   "cell_type": "code",
   "execution_count": null,
   "id": "e7d7a961",
   "metadata": {},
   "outputs": [],
   "source": [
    "emit_data.groups['location'].variables['lon'].shape"
   ]
  },
  {
   "cell_type": "code",
   "execution_count": null,
   "id": "8958c2f6",
   "metadata": {},
   "outputs": [],
   "source": [
    "emit_data.groups['location'].variables['glt_x'].shape"
   ]
  },
  {
   "cell_type": "code",
   "execution_count": null,
   "id": "51c355b2",
   "metadata": {},
   "outputs": [],
   "source": [
    "plt.figure()\n",
    "plt.imshow(emit_data.groups['location'].variables['lon'])"
   ]
  },
  {
   "cell_type": "code",
   "execution_count": null,
   "id": "9eee62e5",
   "metadata": {},
   "outputs": [],
   "source": [
    "emit_data_mask['mask'].shape"
   ]
  },
  {
   "cell_type": "code",
   "execution_count": null,
   "id": "2fd72549",
   "metadata": {},
   "outputs": [],
   "source": [
    "plt.figure()\n",
    "plt.imshow(emit_data_mask['mask'][:,:,7])\n",
    "plt.colorbar()"
   ]
  },
  {
   "cell_type": "markdown",
   "id": "eec68ed4",
   "metadata": {},
   "source": [
    "### Other ways to read in ECOSTRESS data"
   ]
  },
  {
   "cell_type": "code",
   "execution_count": null,
   "id": "a462779f",
   "metadata": {},
   "outputs": [],
   "source": [
    "ds = gdal.Open('../data/ECOv002_L2T_LSTE_28691_004_11SLT_20230728T214058_0710_01_LST.tif')"
   ]
  },
  {
   "cell_type": "code",
   "execution_count": null,
   "id": "97f89aba",
   "metadata": {},
   "outputs": [],
   "source": [
    "img = rasterio.open('../data/ECOv002_L2T_LSTE_28691_004_11SLT_20230728T214058_0710_01_LST.tif')\n",
    "show(img)"
   ]
  },
  {
   "cell_type": "code",
   "execution_count": null,
   "id": "6628bf8b",
   "metadata": {},
   "outputs": [],
   "source": [
    "img"
   ]
  }
 ],
 "metadata": {
  "kernelspec": {
   "display_name": "Python 3 (ipykernel)",
   "language": "python",
   "name": "python3"
  },
  "language_info": {
   "codemirror_mode": {
    "name": "ipython",
    "version": 3
   },
   "file_extension": ".py",
   "mimetype": "text/x-python",
   "name": "python",
   "nbconvert_exporter": "python",
   "pygments_lexer": "ipython3",
   "version": "3.9.18"
  }
 },
 "nbformat": 4,
 "nbformat_minor": 5
}
