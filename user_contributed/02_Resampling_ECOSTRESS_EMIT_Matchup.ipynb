{
 "cells": [
  {
   "cell_type": "code",
   "execution_count": null,
   "id": "36e8c927",
   "metadata": {},
   "outputs": [],
   "source": [
    "%matplotlib widget\n",
    "from matplotlib import pyplot as plt\n",
    "import numpy as np\n",
    "import scipy.io as scio\n",
    "import netCDF4\n",
    "import sys\n",
    "sys.path.append('./modules/')\n",
    "from emit_tools import emit_xarray\n",
    "import geo_matching_utils\n",
    "#import match_extent\n",
    "\n",
    "import xarray as xr\n",
    "import rioxarray\n",
    "import holoviews as hv\n",
    "import hvplot.xarray\n",
    "import rasterio\n",
    "from rasterio.plot import show\n",
    "from osgeo import osr, gdal\n",
    "from scipy import interpolate\n",
    "\n",
    "from spectral.io import envi"
   ]
  },
  {
   "cell_type": "markdown",
   "id": "2ccb7dff-ab3c-47b5-b7c2-0c23484bdc13",
   "metadata": {},
   "source": [
    "### Option 1: Resave EMIT and use gdal warp"
   ]
  },
  {
   "cell_type": "code",
   "execution_count": null,
   "id": "c11a8db3-ac81-42da-a9de-c15f3af8c959",
   "metadata": {},
   "outputs": [],
   "source": [
    "#Save EMIT as orthorectified ENVI file\n",
    "emit_fp = '../data/EMIT_L2A_RFL_001_20230728T214106_2320914_002.nc'\n",
    "geo_matching_utils.reformat(input_netcdf=emit_fp,\\\n",
    "    output_dir='../data/',output_type='ENVI',interleave='BIL',\\\n",
    "                            overwrite=False,orthorectify=True)\n"
   ]
  },
  {
   "cell_type": "code",
   "execution_count": null,
   "id": "4fb5f350-61b3-429c-926a-4643652b5db8",
   "metadata": {},
   "outputs": [],
   "source": [
    "emit_fp = '../data/EMIT_L2A_RFL_001_20230728T214106_2320914_002.nc'"
   ]
  },
  {
   "cell_type": "code",
   "execution_count": null,
   "id": "3b71d8b1-76ec-4f36-a203-a2ab11e06f1f",
   "metadata": {},
   "outputs": [],
   "source": [
    "#Use gdalwarp to warp ECOSTRESS file to EMIT geo\n",
    "emit_fp_ortho = emit_fp.replace('.nc','_reflectance')\n",
    "es_fp = '../data/ECOv002_L2T_LSTE_28691_004_11SLT_20230728T214058_0710_01_LST.tif'\n",
    "es_fp_ortho = es_fp.replace('.tif','_emitProj.tif')\n",
    "geo_matching_utils.match_extent(source_file='../data/ECOv002_L2T_LSTE_28691_004_11SLT_20230728T214058_0710_01_LST.tif',\\\n",
    "    match_file=emit_fp_ortho, dst_file = es_fp_ortho,resample_method='near',\\\n",
    "    output_format = 'GTiff',srcnodata='-9999',dstnodata='-9999')"
   ]
  },
  {
   "cell_type": "code",
   "execution_count": null,
   "id": "faa7d5a0-25e6-4e18-9dff-98258433e70d",
   "metadata": {},
   "outputs": [],
   "source": [
    "#Read in ortho'd files\n",
    "emit_mm = envi.open(emit_fp_ortho + '.hdr').open_memmap() #Acts like a numpy array\n",
    "es_rio = rasterio.open(es_fp_ortho)"
   ]
  },
  {
   "cell_type": "code",
   "execution_count": null,
   "id": "3ed4e93e-10e3-4c73-bedb-096c6e595f14",
   "metadata": {},
   "outputs": [],
   "source": [
    "geotiff_da = rioxarray.open_rasterio(es_fp)\n",
    "geotiff_ds = geotiff_da.to_dataset('band')\n",
    "# Rename the variable to a more useful name\n",
    "geotiff_ds = geotiff_ds.rename({1: 'LSTE'})"
   ]
  },
  {
   "cell_type": "code",
   "execution_count": null,
   "id": "fb52b218-73ab-4a00-b822-105609da351c",
   "metadata": {},
   "outputs": [],
   "source": [
    "geotiff_np = np.array(geotiff_ds.LSTE)"
   ]
  },
  {
   "cell_type": "code",
   "execution_count": null,
   "id": "f8bfc34f-35f9-4b94-bf13-466d5bcfb73a",
   "metadata": {},
   "outputs": [],
   "source": [
    "plt.figure()\n",
    "plt.imshow(geotiff_np)\n",
    "plt.imshow(emit_mm[:,:,80])"
   ]
  },
  {
   "cell_type": "code",
   "execution_count": null,
   "id": "b48eed62-8d1a-4492-b598-04a09d487284",
   "metadata": {},
   "outputs": [],
   "source": [
    "geotiff_ds.x.values"
   ]
  },
  {
   "cell_type": "code",
   "execution_count": null,
   "id": "3d4df78d-2446-4609-92d5-09477c6efb28",
   "metadata": {},
   "outputs": [],
   "source": [
    "geotiff_ds.y.values"
   ]
  },
  {
   "cell_type": "code",
   "execution_count": null,
   "id": "e6ec8b7c-b314-446a-90ba-d064f44055a0",
   "metadata": {},
   "outputs": [],
   "source": [
    "emit_hdr = envi.open(emit_fp_ortho + '.hdr')"
   ]
  },
  {
   "cell_type": "code",
   "execution_count": null,
   "id": "4a6838b9-97e9-4135-b8e6-c3ac0a1f9b24",
   "metadata": {},
   "outputs": [],
   "source": []
  },
  {
   "cell_type": "code",
   "execution_count": null,
   "id": "d320706b-d342-430f-8d4d-06ec5835f401",
   "metadata": {},
   "outputs": [],
   "source": [
    "emit_hdr.metadata"
   ]
  },
  {
   "cell_type": "code",
   "execution_count": null,
   "id": "d63eb91a-ebc4-44a1-9d41-6faba9610168",
   "metadata": {},
   "outputs": [],
   "source": [
    "es_ds.GetProjectionRef()"
   ]
  },
  {
   "cell_type": "code",
   "execution_count": null,
   "id": "40177c33-590d-4571-9cc4-df88a12b65aa",
   "metadata": {},
   "outputs": [],
   "source": [
    "es_ds"
   ]
  },
  {
   "cell_type": "code",
   "execution_count": null,
   "id": "10decadc-731d-4370-a2c1-66e5a2232cca",
   "metadata": {},
   "outputs": [],
   "source": [
    "es_ds = gdal.Open(es_fp_ortho)\n",
    "es_np = np.array(es_ds.GetRasterBand(1).ReadAsArray())"
   ]
  },
  {
   "cell_type": "code",
   "execution_count": null,
   "id": "ac2002b2-ddf6-4150-a642-9033dea074d8",
   "metadata": {},
   "outputs": [],
   "source": [
    "es_np"
   ]
  },
  {
   "cell_type": "code",
   "execution_count": null,
   "id": "3d669fc5-2140-4718-b35f-b293b2aac1f4",
   "metadata": {},
   "outputs": [],
   "source": [
    "plt.figure()\n",
    "plt.imshow(es_np)"
   ]
  },
  {
   "cell_type": "code",
   "execution_count": null,
   "id": "845bb159-02f9-40bc-be35-84aeccb95b97",
   "metadata": {},
   "outputs": [],
   "source": [
    "es_np.shape"
   ]
  },
  {
   "cell_type": "code",
   "execution_count": null,
   "id": "9f2954b5-5a25-45c6-9b63-aa7a2e11a311",
   "metadata": {},
   "outputs": [],
   "source": [
    "emit_mm.shape"
   ]
  },
  {
   "cell_type": "code",
   "execution_count": null,
   "id": "466ac7ad-b248-4bea-936e-1eb649f6cebc",
   "metadata": {},
   "outputs": [],
   "source": [
    "plt.figure()\n",
    "plt.imshow(emit_mm[:,:,80])\n",
    "plt.colorbar()\n",
    "plt.clim((0,1))"
   ]
  },
  {
   "cell_type": "code",
   "execution_count": null,
   "id": "8322ba1b-d1a0-4c80-8437-375cfbb17d1a",
   "metadata": {},
   "outputs": [],
   "source": [
    "es_np"
   ]
  },
  {
   "cell_type": "code",
   "execution_count": null,
   "id": "115db0ec-5fd0-4074-be84-14ef1aff6e46",
   "metadata": {},
   "outputs": [],
   "source": [
    "plt.figure()\n",
    "plt.imshow(es_np)"
   ]
  },
  {
   "cell_type": "markdown",
   "id": "8e5b1ef3",
   "metadata": {},
   "source": [
    "### Read in EMIT data"
   ]
  },
  {
   "cell_type": "code",
   "execution_count": null,
   "id": "a3fa546d",
   "metadata": {},
   "outputs": [],
   "source": [
    "# Read in with xarray, using emit_xarry module helper tools (useful for orthorectification)\n",
    "fp = '../data/EMIT_L2A_RFL_001_20230728T214106_2320914_002.nc'\n",
    "ds_geo = emit_xarray(fp, ortho=True)\n"
   ]
  },
  {
   "cell_type": "code",
   "execution_count": null,
   "id": "98506716",
   "metadata": {},
   "outputs": [],
   "source": [
    "ds_geo.attrs['spatial_ref']"
   ]
  },
  {
   "cell_type": "code",
   "execution_count": null,
   "id": "db6df8a9",
   "metadata": {},
   "outputs": [],
   "source": [
    "ds_geo.geotransform"
   ]
  },
  {
   "cell_type": "code",
   "execution_count": null,
   "id": "123c6259",
   "metadata": {},
   "outputs": [],
   "source": [
    "ds_geo.sel(wavelengths=850, method='nearest').hvplot.image(cmap='viridis', frame_width=500, geo=True, tiles='EsriImagery').opts(\n",
    "    xlabel=f'{ds_geo.longitude.long_name} ({ds_geo.longitude.units})', ylabel=f'{ds_geo.latitude.long_name} ({ds_geo.latitude.units})')"
   ]
  },
  {
   "cell_type": "markdown",
   "id": "53df84d4",
   "metadata": {},
   "source": [
    "### ECOSTRESS"
   ]
  },
  {
   "cell_type": "code",
   "execution_count": null,
   "id": "004f5fab",
   "metadata": {
    "scrolled": true
   },
   "outputs": [],
   "source": [
    "# Read in with xarray\n",
    "geotiff_path = '../data/ECOv002_L2T_LSTE_28691_004_11SLT_20230728T214058_0710_01_LST.tif'\n",
    "geotiff_da = rioxarray.open_rasterio(geotiff_path)\n",
    "geotiff_ds = geotiff_da.to_dataset('band')\n",
    "# Rename the variable to a more useful name\n",
    "geotiff_ds = geotiff_ds.rename({1: 'LSTE'})"
   ]
  },
  {
   "cell_type": "markdown",
   "id": "f7c2fb99",
   "metadata": {},
   "source": [
    "### Interpolate ECOSTRESS to EMIT data (scipy method)"
   ]
  },
  {
   "cell_type": "code",
   "execution_count": null,
   "id": "b3e10145",
   "metadata": {},
   "outputs": [],
   "source": [
    "def convert_xy_to_latlon(old_cs,new_cs,x_coordinates,y_coordinates):\n",
    "    # create a transform object to convert between coordinate systems\n",
    "    transform = osr.CoordinateTransformation(old_cs,new_cs) \n",
    "    latlon = np.zeros((len(x_coordinates),3))\n",
    "    for ii in range(len(x_coordinates)):\n",
    "        latlon[ii,:] = transform.TransformPoint(x_coordinates[ii],y_coordinates[ii])\n",
    "    return latlon\n",
    "        "
   ]
  },
  {
   "cell_type": "code",
   "execution_count": null,
   "id": "4808e07a-414c-4570-a6da-f84b2639faa8",
   "metadata": {},
   "outputs": [],
   "source": [
    "geotiff_path = es_fp_ortho"
   ]
  },
  {
   "cell_type": "code",
   "execution_count": null,
   "id": "bc9cb7eb-154c-4fdc-a295-5e6830e143cc",
   "metadata": {},
   "outputs": [],
   "source": [
    "geotiff_ds.coords['y'].values.shape"
   ]
  },
  {
   "cell_type": "code",
   "execution_count": null,
   "id": "011a384a",
   "metadata": {},
   "outputs": [],
   "source": [
    "ds = gdal.Open(geotiff_path)\n",
    "\n",
    "# get the existing coordinate system\n",
    "old_cs= osr.SpatialReference()\n",
    "old_cs.ImportFromWkt(ds.GetProjectionRef())\n",
    "\n",
    "wgs84_wkt = ds_geo.attrs['spatial_ref']\n",
    "new_cs = osr.SpatialReference()\n",
    "new_cs .ImportFromWkt(wgs84_wkt)\n",
    "\n",
    "# create a transform object to convert between coordinate systems\n",
    "transform = osr.CoordinateTransformation(old_cs,new_cs) \n",
    "\n",
    "#get the coordinates in lat long\n",
    "latlon = convert_xy_to_latlon(old_cs,new_cs,geotiff_ds.coords['x'].values,geotiff_ds.coords['y'].values)\n",
    "\n",
    "#Assign them in xarray\n",
    "geotiff_ds = geotiff_ds.assign_coords({'latitude':latlon[:,0],'longitude':latlon[:,1]})\n"
   ]
  },
  {
   "cell_type": "code",
   "execution_count": null,
   "id": "60f1825b",
   "metadata": {},
   "outputs": [],
   "source": [
    "#The new latlon grid we want things on\n",
    "latlon_new = np.meshgrid(ds_geo.coords['latitude'].values,ds_geo.coords['longitude'].values,indexing='ij')"
   ]
  },
  {
   "cell_type": "code",
   "execution_count": null,
   "id": "84abab25",
   "metadata": {},
   "outputs": [],
   "source": [
    "lste_interp = interpolate.interpn((geotiff_ds.coords['latitude'].values,geotiff_ds.coords['longitude'].values),\\\n",
    "                               geotiff_ds.LSTE.to_numpy(),\\\n",
    "                               (latlon_new[0],latlon_new[1]),\\\n",
    "                               bounds_error=False)"
   ]
  },
  {
   "cell_type": "code",
   "execution_count": null,
   "id": "f879063d",
   "metadata": {},
   "outputs": [],
   "source": [
    "nprfl = ds_geo.reflectance.to_numpy()"
   ]
  },
  {
   "cell_type": "code",
   "execution_count": null,
   "id": "5f1e03f5",
   "metadata": {},
   "outputs": [],
   "source": [
    "plt.figure()\n",
    "plt.imshow(lste_interp)\n",
    "ax = plt.gca()\n",
    "ax.set_ylim((1750,1250))\n",
    "ax.set_xlim((300,1000))"
   ]
  },
  {
   "cell_type": "code",
   "execution_count": null,
   "id": "f79027d3",
   "metadata": {
    "scrolled": true
   },
   "outputs": [],
   "source": [
    "plt.figure()\n",
    "plt.imshow(lste_interp)\n",
    "plt.imshow(nprfl[:,:,80])\n",
    "ax = plt.gca()\n",
    "ax.set_ylim((1750,1250))\n",
    "ax.set_xlim((300,1000))"
   ]
  },
  {
   "cell_type": "code",
   "execution_count": null,
   "id": "4d3b797e",
   "metadata": {},
   "outputs": [],
   "source": [
    "plt.figure()\n",
    "plt.imshow(lste_interp)\n",
    "plt.imshow(nprfl[:,:,80])"
   ]
  },
  {
   "cell_type": "code",
   "execution_count": null,
   "id": "d815a5b2",
   "metadata": {},
   "outputs": [],
   "source": [
    "# Can now use lste_interp and nprfl as the two data arrays\n",
    "# They aren't perfectly matching yet, but enough to get started"
   ]
  },
  {
   "cell_type": "markdown",
   "id": "941cd6e2",
   "metadata": {},
   "source": [
    "### Process ECOSTRESS to enhance thermal anomalies"
   ]
  },
  {
   "cell_type": "code",
   "execution_count": null,
   "id": "c052f328",
   "metadata": {},
   "outputs": [],
   "source": [
    "# *** Under construction *** #"
   ]
  },
  {
   "cell_type": "code",
   "execution_count": null,
   "id": "20d9a50f",
   "metadata": {},
   "outputs": [],
   "source": []
  },
  {
   "cell_type": "markdown",
   "id": "116a2030",
   "metadata": {},
   "source": [
    "### Other ways to read in EMIT data"
   ]
  },
  {
   "cell_type": "code",
   "execution_count": null,
   "id": "fec5b1b3",
   "metadata": {},
   "outputs": [],
   "source": [
    "#emit_data = scio.netcdf.netcdf_file('../data/EMIT_L2A_RFL_001_20230728T214106_2320914_002.nc',mode='r')\n",
    "emit_data = netCDF4.Dataset('../data/EMIT_L2A_RFL_001_20230728T214106_2320914_002.nc')\n",
    "emit_data_uncert = netCDF4.Dataset('../data/EMIT_L2A_RFLUNCERT_001_20230728T214106_2320914_002.nc')\n",
    "emit_data_mask = netCDF4.Dataset('../data/EMIT_L2A_MASK_001_20230728T214106_2320914_002.nc')"
   ]
  },
  {
   "cell_type": "code",
   "execution_count": null,
   "id": "b7b836f1",
   "metadata": {},
   "outputs": [],
   "source": [
    "emit_data"
   ]
  },
  {
   "cell_type": "code",
   "execution_count": null,
   "id": "00a35a62",
   "metadata": {},
   "outputs": [],
   "source": [
    "plt.figure()\n",
    "plt.plot(emit_data['/sensor_band_parameters/wavelengths/'][:])\n",
    "plt.plot(emit_data.groups['sensor_band_parameters'].variables['wavelengths'][:])"
   ]
  },
  {
   "cell_type": "code",
   "execution_count": null,
   "id": "07caa31c",
   "metadata": {},
   "outputs": [],
   "source": [
    "emit_data.groups['location'].variables.keys()"
   ]
  },
  {
   "cell_type": "code",
   "execution_count": null,
   "id": "6f9f1f65",
   "metadata": {},
   "outputs": [],
   "source": [
    "emit_data.variables['reflectance'].shape"
   ]
  },
  {
   "cell_type": "code",
   "execution_count": null,
   "id": "eb5f3b53",
   "metadata": {},
   "outputs": [],
   "source": [
    "plt.figure()\n",
    "plt.imshow(emit_data.variables['reflectance'][:,:,50])"
   ]
  },
  {
   "cell_type": "code",
   "execution_count": null,
   "id": "e7d7a961",
   "metadata": {},
   "outputs": [],
   "source": [
    "emit_data.groups['location'].variables['lon'].shape"
   ]
  },
  {
   "cell_type": "code",
   "execution_count": null,
   "id": "8958c2f6",
   "metadata": {},
   "outputs": [],
   "source": [
    "emit_data.groups['location'].variables['glt_x'].shape"
   ]
  },
  {
   "cell_type": "code",
   "execution_count": null,
   "id": "51c355b2",
   "metadata": {},
   "outputs": [],
   "source": [
    "plt.figure()\n",
    "plt.imshow(emit_data.groups['location'].variables['lon'])"
   ]
  },
  {
   "cell_type": "code",
   "execution_count": null,
   "id": "9eee62e5",
   "metadata": {},
   "outputs": [],
   "source": [
    "emit_data_mask['mask'].shape"
   ]
  },
  {
   "cell_type": "code",
   "execution_count": null,
   "id": "2fd72549",
   "metadata": {},
   "outputs": [],
   "source": [
    "plt.figure()\n",
    "plt.imshow(emit_data_mask['mask'][:,:,7])\n",
    "plt.colorbar()"
   ]
  },
  {
   "cell_type": "markdown",
   "id": "eec68ed4",
   "metadata": {},
   "source": [
    "### Other ways to read in ECOSTRESS data"
   ]
  },
  {
   "cell_type": "code",
   "execution_count": null,
   "id": "a462779f",
   "metadata": {},
   "outputs": [],
   "source": [
    "ds = gdal.Open('../data/ECOv002_L2T_LSTE_28691_004_11SLT_20230728T214058_0710_01_LST.tif')"
   ]
  },
  {
   "cell_type": "code",
   "execution_count": null,
   "id": "c4035936",
   "metadata": {},
   "outputs": [],
   "source": [
    "img = rasterio.open('../data/ECOSTRESS_LA_daytime_summer_LST_2018_2021.tif')\n",
    "show(img)"
   ]
  },
  {
   "cell_type": "code",
   "execution_count": null,
   "id": "97f89aba",
   "metadata": {},
   "outputs": [],
   "source": [
    "img = rasterio.open('../data/ECOv002_L2T_LSTE_28691_004_11SLT_20230728T214058_0710_01_LST.tif')\n",
    "show(img)"
   ]
  },
  {
   "cell_type": "code",
   "execution_count": null,
   "id": "6628bf8b",
   "metadata": {},
   "outputs": [],
   "source": [
    "img"
   ]
  }
 ],
 "metadata": {
  "kernelspec": {
   "display_name": "Python 3 (ipykernel)",
   "language": "python",
   "name": "python3"
  },
  "language_info": {
   "codemirror_mode": {
    "name": "ipython",
    "version": 3
   },
   "file_extension": ".py",
   "mimetype": "text/x-python",
   "name": "python",
   "nbconvert_exporter": "python",
   "pygments_lexer": "ipython3",
   "version": "3.9.18"
  }
 },
 "nbformat": 4,
 "nbformat_minor": 5
}
